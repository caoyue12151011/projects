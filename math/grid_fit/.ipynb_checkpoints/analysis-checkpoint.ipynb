{
 "cells": [
  {
   "cell_type": "code",
   "execution_count": 37,
   "id": "f0ad5e7a-4e4d-4f65-a467-f8fbfc9f8a43",
   "metadata": {},
   "outputs": [],
   "source": [
    "import matplotlib\n",
    "import numpy as np \n",
    "import matplotlib.pyplot as plt\n",
    "import matplotlib.colors as colors\n",
    "import matplotlib.cm as cm\n",
    "import ipywidgets as widgets\n",
    "from scipy.special import erf\n",
    "from scipy.optimize import curve_fit\n",
    "\n",
    "# change default matplotlib fonts\n",
    "plt.rcParams['font.family'] = 'Times New Roman'\n",
    "plt.rcParams['mathtext.fontset'] = 'cm'\n",
    "plt.rcParams['xtick.labelsize'] = 12\n",
    "plt.rcParams['ytick.labelsize'] = 12\n",
    "plt.rcParams['axes.labelsize'] = 16\n",
    "plt.rcParams['legend.fontsize'] = 13"
   ]
  },
  {
   "cell_type": "code",
   "execution_count": 3,
   "id": "7edfe7d3-1b3e-448a-9e18-86818e9c959f",
   "metadata": {},
   "outputs": [],
   "source": [
    "def gaussian(x,A,mu,fwhm):\n",
    "    return A*np.exp(-4*np.log(2)*((x-mu)/fwhm)**2)\n",
    "\n",
    "\n",
    "def grid_fit(dx,xi,x_lim):    \n",
    "    # i range \n",
    "    i_min = int(np.floor((-x_lim-xi)/dx))\n",
    "    i_max = int(np.ceil((x_lim-xi)/dx))\n",
    "    \n",
    "    # grid points \n",
    "    xg = xi + dx*np.arange(i_min,i_max+1)\n",
    "    \n",
    "    # gridded function\n",
    "    a = (np.log(2))**.5\n",
    "    G = np.pi**.5/(4*a*dx) * (erf(a*(2*xg+dx)) - erf(a*(2*xg-dx)))\n",
    "    \n",
    "    # fitting \n",
    "    A, mu, fwhm = curve_fit(gaussian,xg,G,[1,0,1])[0]\n",
    "    \n",
    "    return xg, G, A, mu, fwhm"
   ]
  },
  {
   "cell_type": "markdown",
   "id": "094160e8-ea91-4b34-a6dd-90211e764ce9",
   "metadata": {},
   "source": [
    "### Test gridding&fitting"
   ]
  },
  {
   "cell_type": "code",
   "execution_count": 4,
   "id": "cd731f45-a682-4d78-8d0c-f733018f459a",
   "metadata": {},
   "outputs": [
    {
     "data": {
      "application/vnd.jupyter.widget-view+json": {
       "model_id": "c68304ad900c48eab752d0c69b750f01",
       "version_major": 2,
       "version_minor": 0
      },
      "text/plain": [
       "interactive(children=(FloatSlider(value=2.5, description='dx', max=5.0, min=0.01, step=0.01), FloatSlider(valu…"
      ]
     },
     "metadata": {},
     "output_type": "display_data"
    },
    {
     "data": {
      "text/plain": [
       "<function __main__.demo_plot(dx, xi)>"
      ]
     },
     "execution_count": 4,
     "metadata": {},
     "output_type": "execute_result"
    }
   ],
   "source": [
    "# parameters\n",
    "x_lim = 5 # range of x [-x_lim,x_lim] for the gridding&fitting\n",
    "dx = 1\n",
    "xi = 0\n",
    "\n",
    "x = np.linspace(-x_lim,x_lim,200)\n",
    "S0 = gaussian(x,1,0,1)\n",
    "\n",
    "\n",
    "def demo_plot(dx,xi):\n",
    "    # calculation\n",
    "    xg, G, A, mu, fwhm = grid_fit(dx,xi,x_lim)\n",
    "    S1 = gaussian(x,A,mu,fwhm)\n",
    "    \n",
    "    plt.figure(figsize=(13,4.5))\n",
    "    plt.xlim(-x_lim,x_lim)\n",
    "    plt.ylim(-.1,1.1)\n",
    "    plt.plot(x,S0,color='k',label='Original')\n",
    "    plt.plot(x,S1,color='k',ls='--',label='Fitted')\n",
    "    plt.step(xg,G,where='mid',color='r',label='Gridded')\n",
    "    plt.legend()\n",
    "    plt.grid()\n",
    "    plt.xlabel(r'$x$')\n",
    "    plt.show()\n",
    "\n",
    "widgets.interact(demo_plot,dx=(.01,5,.01),xi=(-2,2,.01))"
   ]
  },
  {
   "cell_type": "markdown",
   "id": "179d96ef-28b5-47e2-b6f7-854febef1738",
   "metadata": {},
   "source": [
    "### Analysis with different parameter setups"
   ]
  },
  {
   "cell_type": "code",
   "execution_count": 43,
   "id": "d2bf0761-be68-4ee0-8c29-00d0276c49c3",
   "metadata": {
    "tags": []
   },
   "outputs": [],
   "source": [
    "# parameters\n",
    "x_lim = 5 # range of x [-x_lim,x_lim] for the gridding&fitting\n",
    "Dx = np.linspace(.05,2,50) # channel width\n",
    "Phase = np.linspace(-.5,.5,60,endpoint=False)\n",
    "\n",
    "Phase += .1*np.pi*(Phase[1]-Phase[0])\n",
    "Xi = Phase[:,np.newaxis]*Dx # shape (xi, dx)\n",
    "\n",
    "AA = np.full(Xi.shape,np.nan)\n",
    "Mu = np.full(Xi.shape,np.nan)\n",
    "Fwhm = np.full(Xi.shape,np.nan)\n",
    "\n",
    "for i in range(len(Xi)):\n",
    "#     if not i==0:\n",
    "#         continue\n",
    "\n",
    "    for j in range(len(Dx)):\n",
    "#         if not j==0:\n",
    "#             continue\n",
    "        try:\n",
    "            xg, G, A, mu, fwhm = grid_fit(Dx[j],Xi[i,j],x_lim)\n",
    "            AA[i,j] = A \n",
    "            Mu[i,j] = mu\n",
    "            Fwhm[i,j] = fwhm\n",
    "        except:\n",
    "            None\n",
    "\n",
    "Area = AA*Fwhm "
   ]
  },
  {
   "cell_type": "code",
   "execution_count": 23,
   "id": "d3a90e78-0a57-444b-81a2-d6b35954214f",
   "metadata": {},
   "outputs": [
    {
     "data": {
      "text/plain": [
       "array([[-0.49166667, -0.49166667, -0.49166667, ..., -0.49166667,\n",
       "        -0.49166667, -0.49166667],\n",
       "       [-0.475     , -0.475     , -0.475     , ..., -0.475     ,\n",
       "        -0.475     , -0.475     ],\n",
       "       [-0.45833333, -0.45833333, -0.45833333, ..., -0.45833333,\n",
       "        -0.45833333, -0.45833333],\n",
       "       ...,\n",
       "       [ 0.45833333,  0.45833333,  0.45833333, ...,  0.45833333,\n",
       "         0.45833333,  0.45833333],\n",
       "       [ 0.475     ,  0.475     ,  0.475     , ...,  0.475     ,\n",
       "         0.475     ,  0.475     ],\n",
       "       [ 0.49166667,  0.49166667,  0.49166667, ...,  0.49166667,\n",
       "         0.49166667,  0.49166667]])"
      ]
     },
     "execution_count": 23,
     "metadata": {},
     "output_type": "execute_result"
    }
   ],
   "source": [
    "Phase"
   ]
  },
  {
   "cell_type": "markdown",
   "id": "f13136ec-da90-4945-ac12-231467a778d6",
   "metadata": {},
   "source": [
    "### Demo"
   ]
  },
  {
   "cell_type": "code",
   "execution_count": 49,
   "id": "58214e9b-fe40-4768-b3de-b695373f3aaf",
   "metadata": {},
   "outputs": [],
   "source": [
    "# mappables for drawing colormaps\n",
    "cmap_ph = cm.ScalarMappable(cmap='coolwarm',norm=colors.Normalize(-.5,.5))\n",
    "cmap_dx = cm.ScalarMappable(cmap='coolwarm',norm=colors.Normalize(np.nanmin(Dx),\n",
    "    np.nanmax(Dx)))\n",
    "\n",
    "# color arrays\n",
    "C_ph = matplotlib.cm.get_cmap('coolwarm')(Phase+.5) \n",
    "C_dx = matplotlib.cm.get_cmap('coolwarm')((Dx-np.nanmin(Dx))/\n",
    "    (np.nanmax(Dx)-np.nanmin(Dx))) "
   ]
  },
  {
   "cell_type": "markdown",
   "id": "043f5f98-e89d-47d9-9e1a-29bce6bce64b",
   "metadata": {},
   "source": [
    "#### Influence of $\\Delta x$ and phase on $A$, $\\mu$, FWHM, Area"
   ]
  },
  {
   "cell_type": "code",
   "execution_count": 62,
   "id": "696fa318-1f69-436b-9694-436e3f20284a",
   "metadata": {},
   "outputs": [],
   "source": [
    "# parameters\n",
    "s = 3\n",
    "figsize = (7,5)\n",
    "\n",
    "# data preparations \n",
    "Para = {\n",
    "    'A': {\n",
    "        'data': AA,\n",
    "        'ylabel': r'$A/A_0$',\n",
    "    },\n",
    "    'mu': {\n",
    "        'data': Mu,\n",
    "        'ylabel': r'$\\mu/FWHM_0$',\n",
    "    },\n",
    "    'fwhm': {\n",
    "        'data': Fwhm,\n",
    "        'ylabel': r'$FWHM/FWHM_0$',\n",
    "    },\n",
    "    'area': {\n",
    "        'data': Area,\n",
    "        'ylabel': r'$A\\cdot FWHM/(A_0\\cdot FWHM_0)$',\n",
    "    },\n",
    "}\n",
    "\n",
    "\n",
    "# Successful fittings\n",
    "plt.figure(figsize=figsize)\n",
    "plt.imshow(~np.isnan(AA),extent=[np.nanmin(Dx),np.nanmax(Dx),np.nanmin(Phase),\n",
    "    np.nanmax(Phase)],aspect='auto')\n",
    "plt.colorbar(ticks=[0,1],label='Successful fitting')\n",
    "plt.xlabel(r'$\\Delta x/FWHM_0$')\n",
    "plt.ylabel('Phase')\n",
    "plt.tight_layout()\n",
    "plt.savefig('image/success_fit.pdf')\n",
    "plt.close()\n",
    "\n",
    "\n",
    "for prop in Para:\n",
    "    data = Para[prop]['data']\n",
    "    ylabel = Para[prop]['ylabel']\n",
    "\n",
    "    # xxx vs dx\n",
    "    plt.figure(figsize=figsize)\n",
    "    for j in range(len(Dx)):\n",
    "        plt.scatter([Dx[j]]*len(Phase),data[:,j],s=s,color=C_ph)\n",
    "\n",
    "    if prop=='fwhm':\n",
    "        plt.ylim(.9,1.1*np.nanmax(data))\n",
    "        coef = .4\n",
    "        xx = np.linspace(Dx[0],Dx[-1],100)\n",
    "        yy = (coef*xx**2 + 1**2)**.5\n",
    "        plt.plot(xx,yy,color='k',ls='--',\n",
    "                 label=r'$FWHM^2=FWHM_0^2+%s\\Delta x^2$'%coef)\n",
    "        plt.legend()\n",
    "        \n",
    "    plt.colorbar(cmap_ph,label='Phase')\n",
    "    plt.grid()\n",
    "    plt.xlabel(r'$\\Delta x/FWHM_0$')\n",
    "    plt.ylabel(ylabel)\n",
    "    plt.tight_layout()\n",
    "    plt.savefig('image/%s_vs_dx.pdf'%prop)\n",
    "    plt.close()\n",
    "\n",
    "    \n",
    "    # xxx vs phase\n",
    "    plt.figure(figsize=figsize)\n",
    "    for i in range(len(Phase)):\n",
    "        plt.scatter([Phase[i]]*len(Dx),data[i],s=s,color=C_dx)\n",
    "    plt.colorbar(cmap_dx,label=r'$\\Delta x/FWHM_0$')\n",
    "    plt.grid()\n",
    "    plt.xlabel('Phase')\n",
    "    plt.ylabel(ylabel)\n",
    "    plt.tight_layout()\n",
    "    plt.savefig('image/%s_vs_xi.pdf'%prop)\n",
    "    plt.close()"
   ]
  },
  {
   "cell_type": "code",
   "execution_count": null,
   "id": "97039bab-5b0f-481d-bfe3-8a4f65e8a7c8",
   "metadata": {},
   "outputs": [],
   "source": []
  }
 ],
 "metadata": {
  "kernelspec": {
   "display_name": "Python 3",
   "language": "python",
   "name": "python3"
  },
  "language_info": {
   "codemirror_mode": {
    "name": "ipython",
    "version": 3
   },
   "file_extension": ".py",
   "mimetype": "text/x-python",
   "name": "python",
   "nbconvert_exporter": "python",
   "pygments_lexer": "ipython3",
   "version": "3.8.8"
  }
 },
 "nbformat": 4,
 "nbformat_minor": 5
}
